{
 "cells": [
  {
   "cell_type": "code",
   "execution_count": 1,
   "metadata": {},
   "outputs": [],
   "source": [
    "import numpy as np\n",
    "import pandas as pd\n",
    "import math\n",
    "import sklearn\n",
    "import matplotlib.pyplot as plt\n",
    "%matplotlib inline"
   ]
  },
  {
   "cell_type": "code",
   "execution_count": 2,
   "metadata": {},
   "outputs": [
    {
     "data": {
      "text/html": [
       "<div>\n",
       "<style scoped>\n",
       "    .dataframe tbody tr th:only-of-type {\n",
       "        vertical-align: middle;\n",
       "    }\n",
       "\n",
       "    .dataframe tbody tr th {\n",
       "        vertical-align: top;\n",
       "    }\n",
       "\n",
       "    .dataframe thead th {\n",
       "        text-align: right;\n",
       "    }\n",
       "</style>\n",
       "<table border=\"1\" class=\"dataframe\">\n",
       "  <thead>\n",
       "    <tr style=\"text-align: right;\">\n",
       "      <th></th>\n",
       "      <th>MONTH</th>\n",
       "      <th>DAY_OF_MONTH</th>\n",
       "      <th>DAY_OF_WEEK</th>\n",
       "      <th>OP_UNIQUE_CARRIER</th>\n",
       "      <th>TAIL_NUM</th>\n",
       "      <th>DEST</th>\n",
       "      <th>DEP_DELAY</th>\n",
       "      <th>CRS_ELAPSED_TIME</th>\n",
       "      <th>DISTANCE</th>\n",
       "      <th>CRS_DEP_M</th>\n",
       "      <th>...</th>\n",
       "      <th>Dew Point</th>\n",
       "      <th>Humidity</th>\n",
       "      <th>Wind</th>\n",
       "      <th>Wind Speed</th>\n",
       "      <th>Wind Gust</th>\n",
       "      <th>Pressure</th>\n",
       "      <th>Condition</th>\n",
       "      <th>sch_dep</th>\n",
       "      <th>sch_arr</th>\n",
       "      <th>TAXI_OUT</th>\n",
       "    </tr>\n",
       "  </thead>\n",
       "  <tbody>\n",
       "    <tr>\n",
       "      <th>0</th>\n",
       "      <td>11</td>\n",
       "      <td>1</td>\n",
       "      <td>5</td>\n",
       "      <td>B6</td>\n",
       "      <td>N828JB</td>\n",
       "      <td>CHS</td>\n",
       "      <td>-1</td>\n",
       "      <td>124</td>\n",
       "      <td>636</td>\n",
       "      <td>324</td>\n",
       "      <td>...</td>\n",
       "      <td>34</td>\n",
       "      <td>58</td>\n",
       "      <td>W</td>\n",
       "      <td>25</td>\n",
       "      <td>38</td>\n",
       "      <td>29.86</td>\n",
       "      <td>Fair / Windy</td>\n",
       "      <td>9</td>\n",
       "      <td>17</td>\n",
       "      <td>14</td>\n",
       "    </tr>\n",
       "    <tr>\n",
       "      <th>1</th>\n",
       "      <td>11</td>\n",
       "      <td>1</td>\n",
       "      <td>5</td>\n",
       "      <td>B6</td>\n",
       "      <td>N992JB</td>\n",
       "      <td>LAX</td>\n",
       "      <td>-7</td>\n",
       "      <td>371</td>\n",
       "      <td>2475</td>\n",
       "      <td>340</td>\n",
       "      <td>...</td>\n",
       "      <td>34</td>\n",
       "      <td>58</td>\n",
       "      <td>W</td>\n",
       "      <td>25</td>\n",
       "      <td>38</td>\n",
       "      <td>29.86</td>\n",
       "      <td>Fair / Windy</td>\n",
       "      <td>9</td>\n",
       "      <td>17</td>\n",
       "      <td>15</td>\n",
       "    </tr>\n",
       "    <tr>\n",
       "      <th>2</th>\n",
       "      <td>11</td>\n",
       "      <td>1</td>\n",
       "      <td>5</td>\n",
       "      <td>B6</td>\n",
       "      <td>N959JB</td>\n",
       "      <td>FLL</td>\n",
       "      <td>40</td>\n",
       "      <td>181</td>\n",
       "      <td>1069</td>\n",
       "      <td>301</td>\n",
       "      <td>...</td>\n",
       "      <td>34</td>\n",
       "      <td>58</td>\n",
       "      <td>W</td>\n",
       "      <td>25</td>\n",
       "      <td>38</td>\n",
       "      <td>29.86</td>\n",
       "      <td>Fair / Windy</td>\n",
       "      <td>9</td>\n",
       "      <td>17</td>\n",
       "      <td>22</td>\n",
       "    </tr>\n",
       "    <tr>\n",
       "      <th>3</th>\n",
       "      <td>11</td>\n",
       "      <td>1</td>\n",
       "      <td>5</td>\n",
       "      <td>B6</td>\n",
       "      <td>N999JQ</td>\n",
       "      <td>MCO</td>\n",
       "      <td>-2</td>\n",
       "      <td>168</td>\n",
       "      <td>944</td>\n",
       "      <td>345</td>\n",
       "      <td>...</td>\n",
       "      <td>34</td>\n",
       "      <td>58</td>\n",
       "      <td>W</td>\n",
       "      <td>25</td>\n",
       "      <td>38</td>\n",
       "      <td>29.86</td>\n",
       "      <td>Fair / Windy</td>\n",
       "      <td>9</td>\n",
       "      <td>17</td>\n",
       "      <td>12</td>\n",
       "    </tr>\n",
       "    <tr>\n",
       "      <th>4</th>\n",
       "      <td>11</td>\n",
       "      <td>1</td>\n",
       "      <td>5</td>\n",
       "      <td>DL</td>\n",
       "      <td>N880DN</td>\n",
       "      <td>ATL</td>\n",
       "      <td>-4</td>\n",
       "      <td>139</td>\n",
       "      <td>760</td>\n",
       "      <td>360</td>\n",
       "      <td>...</td>\n",
       "      <td>32</td>\n",
       "      <td>58</td>\n",
       "      <td>W</td>\n",
       "      <td>24</td>\n",
       "      <td>35</td>\n",
       "      <td>29.91</td>\n",
       "      <td>Fair / Windy</td>\n",
       "      <td>9</td>\n",
       "      <td>17</td>\n",
       "      <td>13</td>\n",
       "    </tr>\n",
       "    <tr>\n",
       "      <th>5</th>\n",
       "      <td>11</td>\n",
       "      <td>1</td>\n",
       "      <td>5</td>\n",
       "      <td>AA</td>\n",
       "      <td>N983NN</td>\n",
       "      <td>ORD</td>\n",
       "      <td>-1</td>\n",
       "      <td>161</td>\n",
       "      <td>740</td>\n",
       "      <td>359</td>\n",
       "      <td>...</td>\n",
       "      <td>32</td>\n",
       "      <td>58</td>\n",
       "      <td>W</td>\n",
       "      <td>24</td>\n",
       "      <td>35</td>\n",
       "      <td>29.91</td>\n",
       "      <td>Fair / Windy</td>\n",
       "      <td>9</td>\n",
       "      <td>17</td>\n",
       "      <td>21</td>\n",
       "    </tr>\n",
       "    <tr>\n",
       "      <th>6</th>\n",
       "      <td>11</td>\n",
       "      <td>1</td>\n",
       "      <td>5</td>\n",
       "      <td>AA</td>\n",
       "      <td>N107NN</td>\n",
       "      <td>LAX</td>\n",
       "      <td>-1</td>\n",
       "      <td>373</td>\n",
       "      <td>2475</td>\n",
       "      <td>360</td>\n",
       "      <td>...</td>\n",
       "      <td>32</td>\n",
       "      <td>58</td>\n",
       "      <td>W</td>\n",
       "      <td>24</td>\n",
       "      <td>35</td>\n",
       "      <td>29.91</td>\n",
       "      <td>Fair / Windy</td>\n",
       "      <td>9</td>\n",
       "      <td>17</td>\n",
       "      <td>26</td>\n",
       "    </tr>\n",
       "    <tr>\n",
       "      <th>7</th>\n",
       "      <td>11</td>\n",
       "      <td>1</td>\n",
       "      <td>5</td>\n",
       "      <td>B6</td>\n",
       "      <td>N274JB</td>\n",
       "      <td>BUF</td>\n",
       "      <td>-5</td>\n",
       "      <td>80</td>\n",
       "      <td>301</td>\n",
       "      <td>365</td>\n",
       "      <td>...</td>\n",
       "      <td>32</td>\n",
       "      <td>58</td>\n",
       "      <td>W</td>\n",
       "      <td>24</td>\n",
       "      <td>35</td>\n",
       "      <td>29.91</td>\n",
       "      <td>Fair / Windy</td>\n",
       "      <td>17</td>\n",
       "      <td>21</td>\n",
       "      <td>11</td>\n",
       "    </tr>\n",
       "    <tr>\n",
       "      <th>8</th>\n",
       "      <td>11</td>\n",
       "      <td>1</td>\n",
       "      <td>5</td>\n",
       "      <td>B6</td>\n",
       "      <td>N663JB</td>\n",
       "      <td>LGB</td>\n",
       "      <td>0</td>\n",
       "      <td>368</td>\n",
       "      <td>2465</td>\n",
       "      <td>365</td>\n",
       "      <td>...</td>\n",
       "      <td>32</td>\n",
       "      <td>58</td>\n",
       "      <td>W</td>\n",
       "      <td>24</td>\n",
       "      <td>35</td>\n",
       "      <td>29.91</td>\n",
       "      <td>Fair / Windy</td>\n",
       "      <td>17</td>\n",
       "      <td>21</td>\n",
       "      <td>25</td>\n",
       "    </tr>\n",
       "    <tr>\n",
       "      <th>9</th>\n",
       "      <td>11</td>\n",
       "      <td>1</td>\n",
       "      <td>5</td>\n",
       "      <td>B6</td>\n",
       "      <td>N283JB</td>\n",
       "      <td>FLL</td>\n",
       "      <td>3</td>\n",
       "      <td>184</td>\n",
       "      <td>1069</td>\n",
       "      <td>370</td>\n",
       "      <td>...</td>\n",
       "      <td>32</td>\n",
       "      <td>58</td>\n",
       "      <td>W</td>\n",
       "      <td>24</td>\n",
       "      <td>35</td>\n",
       "      <td>29.91</td>\n",
       "      <td>Fair / Windy</td>\n",
       "      <td>17</td>\n",
       "      <td>21</td>\n",
       "      <td>29</td>\n",
       "    </tr>\n",
       "  </tbody>\n",
       "</table>\n",
       "<p>10 rows × 23 columns</p>\n",
       "</div>"
      ],
      "text/plain": [
       "   MONTH  DAY_OF_MONTH  DAY_OF_WEEK OP_UNIQUE_CARRIER TAIL_NUM DEST  \\\n",
       "0     11             1            5                B6   N828JB  CHS   \n",
       "1     11             1            5                B6   N992JB  LAX   \n",
       "2     11             1            5                B6   N959JB  FLL   \n",
       "3     11             1            5                B6   N999JQ  MCO   \n",
       "4     11             1            5                DL   N880DN  ATL   \n",
       "5     11             1            5                AA   N983NN  ORD   \n",
       "6     11             1            5                AA   N107NN  LAX   \n",
       "7     11             1            5                B6   N274JB  BUF   \n",
       "8     11             1            5                B6   N663JB  LGB   \n",
       "9     11             1            5                B6   N283JB  FLL   \n",
       "\n",
       "   DEP_DELAY  CRS_ELAPSED_TIME  DISTANCE  CRS_DEP_M  ...  Dew Point  Humidity  \\\n",
       "0         -1               124       636        324  ...         34        58   \n",
       "1         -7               371      2475        340  ...         34        58   \n",
       "2         40               181      1069        301  ...         34        58   \n",
       "3         -2               168       944        345  ...         34        58   \n",
       "4         -4               139       760        360  ...         32        58   \n",
       "5         -1               161       740        359  ...         32        58   \n",
       "6         -1               373      2475        360  ...         32        58   \n",
       "7         -5                80       301        365  ...         32        58   \n",
       "8          0               368      2465        365  ...         32        58   \n",
       "9          3               184      1069        370  ...         32        58   \n",
       "\n",
       "   Wind Wind Speed  Wind Gust Pressure     Condition  sch_dep  sch_arr  \\\n",
       "0     W         25         38    29.86  Fair / Windy        9       17   \n",
       "1     W         25         38    29.86  Fair / Windy        9       17   \n",
       "2     W         25         38    29.86  Fair / Windy        9       17   \n",
       "3     W         25         38    29.86  Fair / Windy        9       17   \n",
       "4     W         24         35    29.91  Fair / Windy        9       17   \n",
       "5     W         24         35    29.91  Fair / Windy        9       17   \n",
       "6     W         24         35    29.91  Fair / Windy        9       17   \n",
       "7     W         24         35    29.91  Fair / Windy       17       21   \n",
       "8     W         24         35    29.91  Fair / Windy       17       21   \n",
       "9     W         24         35    29.91  Fair / Windy       17       21   \n",
       "\n",
       "  TAXI_OUT  \n",
       "0       14  \n",
       "1       15  \n",
       "2       22  \n",
       "3       12  \n",
       "4       13  \n",
       "5       21  \n",
       "6       26  \n",
       "7       11  \n",
       "8       25  \n",
       "9       29  \n",
       "\n",
       "[10 rows x 23 columns]"
      ]
     },
     "execution_count": 2,
     "metadata": {},
     "output_type": "execute_result"
    }
   ],
   "source": [
    "dataset = pd.read_csv('M1_final.csv')\n",
    "dataset.head(10)"
   ]
  },
  {
   "cell_type": "code",
   "execution_count": 4,
   "metadata": {},
   "outputs": [
    {
     "data": {
      "text/plain": [
       "20.85857043719639"
      ]
     },
     "execution_count": 4,
     "metadata": {},
     "output_type": "execute_result"
    }
   ],
   "source": [
    "dataset['TAXI_OUT'].mean()"
   ]
  },
  {
   "cell_type": "code",
   "execution_count": 5,
   "metadata": {},
   "outputs": [
    {
     "name": "stdout",
     "output_type": "stream",
     "text": [
      "<class 'pandas.core.frame.DataFrame'>\n",
      "RangeIndex: 28820 entries, 0 to 28819\n",
      "Data columns (total 23 columns):\n",
      " #   Column             Non-Null Count  Dtype  \n",
      "---  ------             --------------  -----  \n",
      " 0   MONTH              28820 non-null  int64  \n",
      " 1   DAY_OF_MONTH       28820 non-null  int64  \n",
      " 2   DAY_OF_WEEK        28820 non-null  int64  \n",
      " 3   OP_UNIQUE_CARRIER  28820 non-null  object \n",
      " 4   TAIL_NUM           28820 non-null  object \n",
      " 5   DEST               28820 non-null  object \n",
      " 6   DEP_DELAY          28820 non-null  int64  \n",
      " 7   CRS_ELAPSED_TIME   28820 non-null  int64  \n",
      " 8   DISTANCE           28820 non-null  int64  \n",
      " 9   CRS_DEP_M          28820 non-null  int64  \n",
      " 10  DEP_TIME_M         28820 non-null  int64  \n",
      " 11  CRS_ARR_M          28820 non-null  int64  \n",
      " 12  Temperature        28820 non-null  int64  \n",
      " 13  Dew Point          28820 non-null  object \n",
      " 14  Humidity           28820 non-null  int64  \n",
      " 15  Wind               28818 non-null  object \n",
      " 16  Wind Speed         28820 non-null  int64  \n",
      " 17  Wind Gust          28820 non-null  int64  \n",
      " 18  Pressure           28820 non-null  float64\n",
      " 19  Condition          28820 non-null  object \n",
      " 20  sch_dep            28820 non-null  int64  \n",
      " 21  sch_arr            28820 non-null  int64  \n",
      " 22  TAXI_OUT           28820 non-null  int64  \n",
      "dtypes: float64(1), int64(16), object(6)\n",
      "memory usage: 5.1+ MB\n"
     ]
    }
   ],
   "source": [
    "dataset.info()"
   ]
  },
  {
   "cell_type": "code",
   "execution_count": 6,
   "metadata": {},
   "outputs": [
    {
     "name": "stdout",
     "output_type": "stream",
     "text": [
      "<class 'pandas.core.frame.DataFrame'>\n",
      "Int64Index: 27093 entries, 0 to 28819\n",
      "Data columns (total 23 columns):\n",
      " #   Column             Non-Null Count  Dtype  \n",
      "---  ------             --------------  -----  \n",
      " 0   MONTH              27093 non-null  int64  \n",
      " 1   DAY_OF_MONTH       27093 non-null  int64  \n",
      " 2   DAY_OF_WEEK        27093 non-null  int64  \n",
      " 3   OP_UNIQUE_CARRIER  27093 non-null  object \n",
      " 4   TAIL_NUM           27093 non-null  object \n",
      " 5   DEST               27093 non-null  object \n",
      " 6   DEP_DELAY          27093 non-null  int64  \n",
      " 7   CRS_ELAPSED_TIME   27093 non-null  int64  \n",
      " 8   DISTANCE           27093 non-null  int64  \n",
      " 9   CRS_DEP_M          27093 non-null  int64  \n",
      " 10  DEP_TIME_M         27093 non-null  int64  \n",
      " 11  CRS_ARR_M          27093 non-null  int64  \n",
      " 12  Temperature        27093 non-null  int64  \n",
      " 13  Dew Point          27093 non-null  float64\n",
      " 14  Humidity           27093 non-null  int64  \n",
      " 15  Wind               27093 non-null  object \n",
      " 16  Wind Speed         27093 non-null  int64  \n",
      " 17  Wind Gust          27093 non-null  int64  \n",
      " 18  Pressure           27093 non-null  float64\n",
      " 19  Condition          27093 non-null  object \n",
      " 20  sch_dep            27093 non-null  int64  \n",
      " 21  sch_arr            27093 non-null  int64  \n",
      " 22  TAXI_OUT           27093 non-null  int64  \n",
      "dtypes: float64(2), int64(16), object(5)\n",
      "memory usage: 5.0+ MB\n"
     ]
    }
   ],
   "source": [
    "# converting Dew Point values from string to numeric\n",
    "dataset[\"Dew Point\"] = pd.to_numeric(dataset[\"Dew Point\"], errors = 'coerce')\n",
    "\n",
    "# dropping rows with null values\n",
    "dataset.dropna(inplace = True)\n",
    "dataset.info()"
   ]
  },
  {
   "cell_type": "code",
   "execution_count": 7,
   "metadata": {},
   "outputs": [
    {
     "name": "stdout",
     "output_type": "stream",
     "text": [
      "Index(['OP_UNIQUE_CARRIER', 'TAIL_NUM', 'DEST', 'Wind', 'Condition'], dtype='object')\n"
     ]
    }
   ],
   "source": [
    "dataset1 = dataset.copy() # for Label Encoding\n",
    "dataset2 = dataset.copy() # for One Hot Encoding\n",
    "\n",
    "# getting columns of object type\n",
    "ObjList = dataset1.select_dtypes(include = \"object\").columns\n",
    "print(ObjList)"
   ]
  },
  {
   "cell_type": "markdown",
   "metadata": {},
   "source": [
    "# Label Encoding"
   ]
  },
  {
   "cell_type": "code",
   "execution_count": 8,
   "metadata": {},
   "outputs": [
    {
     "name": "stdout",
     "output_type": "stream",
     "text": [
      "<class 'pandas.core.frame.DataFrame'>\n",
      "Int64Index: 27093 entries, 0 to 28819\n",
      "Data columns (total 23 columns):\n",
      " #   Column             Non-Null Count  Dtype  \n",
      "---  ------             --------------  -----  \n",
      " 0   MONTH              27093 non-null  int64  \n",
      " 1   DAY_OF_MONTH       27093 non-null  int64  \n",
      " 2   DAY_OF_WEEK        27093 non-null  int64  \n",
      " 3   OP_UNIQUE_CARRIER  27093 non-null  int32  \n",
      " 4   TAIL_NUM           27093 non-null  int32  \n",
      " 5   DEST               27093 non-null  int32  \n",
      " 6   DEP_DELAY          27093 non-null  int64  \n",
      " 7   CRS_ELAPSED_TIME   27093 non-null  int64  \n",
      " 8   DISTANCE           27093 non-null  int64  \n",
      " 9   CRS_DEP_M          27093 non-null  int64  \n",
      " 10  DEP_TIME_M         27093 non-null  int64  \n",
      " 11  CRS_ARR_M          27093 non-null  int64  \n",
      " 12  Temperature        27093 non-null  int64  \n",
      " 13  Dew Point          27093 non-null  float64\n",
      " 14  Humidity           27093 non-null  int64  \n",
      " 15  Wind               27093 non-null  int32  \n",
      " 16  Wind Speed         27093 non-null  int64  \n",
      " 17  Wind Gust          27093 non-null  int64  \n",
      " 18  Pressure           27093 non-null  float64\n",
      " 19  Condition          27093 non-null  int32  \n",
      " 20  sch_dep            27093 non-null  int64  \n",
      " 21  sch_arr            27093 non-null  int64  \n",
      " 22  TAXI_OUT           27093 non-null  int64  \n",
      "dtypes: float64(2), int32(5), int64(16)\n",
      "memory usage: 4.4 MB\n"
     ]
    }
   ],
   "source": [
    "from sklearn.preprocessing import LabelEncoder\n",
    "le = LabelEncoder()\n",
    "dataset1[ObjList] = dataset1[ObjList].apply(le.fit_transform)\n",
    "dataset1.info()"
   ]
  },
  {
   "cell_type": "code",
   "execution_count": 9,
   "metadata": {},
   "outputs": [],
   "source": [
    "from sklearn.model_selection import train_test_split\n",
    "\n",
    "x = dataset1.iloc[:,:-1].values\n",
    "y = dataset1.iloc[:,-1].values\n",
    "\n",
    "# splitting dataset\n",
    "x_train, x_test, y_train, y_test = train_test_split(x, y, test_size = 0.1, random_state = 42)"
   ]
  },
  {
   "cell_type": "code",
   "execution_count": 10,
   "metadata": {},
   "outputs": [],
   "source": [
    "# featuring data\n",
    "from sklearn.preprocessing import StandardScaler\n",
    "ss = StandardScaler()\n",
    "x_train_feat = ss.fit_transform(x_train)\n",
    "x_test_feat = ss.transform(x_test)"
   ]
  },
  {
   "cell_type": "markdown",
   "metadata": {},
   "source": [
    "## Linear Regression with Label Encoding"
   ]
  },
  {
   "cell_type": "code",
   "execution_count": 14,
   "metadata": {},
   "outputs": [
    {
     "name": "stdout",
     "output_type": "stream",
     "text": [
      "error for Linear Regression = 6.629789455945679\n"
     ]
    }
   ],
   "source": [
    "from sklearn.metrics import mean_squared_error as mse\n",
    "\n",
    "\n",
    "from sklearn.linear_model import LinearRegression\n",
    "lr = LinearRegression()\n",
    "lr.fit(x_train_feat,y_train)\n",
    "pred_lr = lr.predict(x_test_feat)\n",
    "mse_lr = mse(y_test, pred_lr, squared = False)\n",
    "print(\"error for Linear Regression = {}\".format(mse_lr))\n"
   ]
  },
  {
   "cell_type": "markdown",
   "metadata": {},
   "source": [
    "## Ridge Regression with Label Encoding"
   ]
  },
  {
   "cell_type": "code",
   "execution_count": 10,
   "metadata": {},
   "outputs": [
    {
     "name": "stdout",
     "output_type": "stream",
     "text": [
      "error for Ridge Regression = 6.629729489374696\n"
     ]
    }
   ],
   "source": [
    "from sklearn.linear_model import Ridge\n",
    "\n",
    "ridge = Ridge(alpha = 1.0)\n",
    "ridge.fit(x_train_feat, y_train)\n",
    "pred_ridge = ridge.predict(x_test_feat)\n",
    "mse_ridge = mse(y_test, pred_ridge, squared = False)\n",
    "print(\"error for Ridge Regression = {}\".format(mse_ridge))"
   ]
  },
  {
   "cell_type": "markdown",
   "metadata": {},
   "source": [
    "## Lasso Regression with Label Encoding"
   ]
  },
  {
   "cell_type": "code",
   "execution_count": 11,
   "metadata": {},
   "outputs": [
    {
     "name": "stdout",
     "output_type": "stream",
     "text": [
      "error for Lasso Regression = 6.796465513398761\n"
     ]
    }
   ],
   "source": [
    "from sklearn.linear_model import Lasso\n",
    "\n",
    "lasso = Lasso(alpha = 0.5)\n",
    "lasso.fit(x_train_feat, y_train)\n",
    "pred_lasso = lasso.predict(x_test_feat)\n",
    "mse_lasso = mse(y_test, pred_lasso, squared = False)\n",
    "print(\"error for Lasso Regression = {}\".format(mse_lasso))"
   ]
  },
  {
   "cell_type": "markdown",
   "metadata": {},
   "source": [
    "## KNN with Label Encoding"
   ]
  },
  {
   "cell_type": "code",
   "execution_count": 12,
   "metadata": {},
   "outputs": [
    {
     "name": "stdout",
     "output_type": "stream",
     "text": [
      "error when k = 116 for KNN  is 6.514892914791098\n"
     ]
    }
   ],
   "source": [
    "from sklearn.neighbors import KNeighborsRegressor\n",
    "i = int(math.sqrt(len(dataset1)/2))\n",
    "knr = KNeighborsRegressor(i)\n",
    "knr.fit(x_train_feat, y_train)\n",
    "pred_knr = knr.predict(x_test_feat)\n",
    "mse_knr = mse(y_test, pred_knr, squared = False)\n",
    "print(\"error when k = {} for KNN  is {}\".format(i, mse_knr))"
   ]
  },
  {
   "cell_type": "markdown",
   "metadata": {},
   "source": [
    "## Random Forest with Label Encoding"
   ]
  },
  {
   "cell_type": "code",
   "execution_count": 13,
   "metadata": {},
   "outputs": [
    {
     "name": "stdout",
     "output_type": "stream",
     "text": [
      "error for Random Forest Regressor = 5.818764698793568\n"
     ]
    }
   ],
   "source": [
    "from sklearn.ensemble import RandomForestRegressor\n",
    "rfr = RandomForestRegressor()\n",
    "rfr.fit(x_train, y_train)\n",
    "pred_rfr = rfr.predict(x_test)\n",
    "mse_rfr = mse(y_test, pred_rfr,squared = False)\n",
    "print(\"error for Random Forest Regressor = {}\".format(mse_rfr))"
   ]
  },
  {
   "cell_type": "markdown",
   "metadata": {},
   "source": [
    "## Naive Bayes with Label Encoding"
   ]
  },
  {
   "cell_type": "code",
   "execution_count": 14,
   "metadata": {},
   "outputs": [
    {
     "name": "stdout",
     "output_type": "stream",
     "text": [
      "error for Bayesian Ridge = 6.631284050311815\n"
     ]
    }
   ],
   "source": [
    "from sklearn.linear_model import BayesianRidge\n",
    "br = BayesianRidge()\n",
    "br.fit(x_train, y_train)\n",
    "pred_br = br.predict(x_test)\n",
    "mse_br = mse(y_test, pred_br, squared = False)\n",
    "print(\"error for Bayesian Ridge = {}\".format(mse_br))"
   ]
  },
  {
   "cell_type": "markdown",
   "metadata": {},
   "source": [
    "## SVR with Label Encoding"
   ]
  },
  {
   "cell_type": "code",
   "execution_count": 15,
   "metadata": {},
   "outputs": [
    {
     "name": "stdout",
     "output_type": "stream",
     "text": [
      "error for Support Vector Regressor = 6.4086009276348435\n"
     ]
    }
   ],
   "source": [
    "from sklearn.svm import SVR\n",
    "svr = SVR()\n",
    "svr.fit(x_train_feat, y_train)\n",
    "pred_svr = svr.predict(x_test_feat)\n",
    "mse_svr = mse(y_test,pred_svr, squared = False)\n",
    "print(\"error for Support Vector Regressor = {}\".format(mse_svr))"
   ]
  },
  {
   "cell_type": "markdown",
   "metadata": {},
   "source": [
    "## LGBM with Label Encoding"
   ]
  },
  {
   "cell_type": "code",
   "execution_count": 16,
   "metadata": {},
   "outputs": [
    {
     "name": "stdout",
     "output_type": "stream",
     "text": [
      "error for LGBMRegressor = 5.84442106757154\n"
     ]
    }
   ],
   "source": [
    "from lightgbm import LGBMRegressor\n",
    "\n",
    "\n",
    "lgbm = LGBMRegressor()\n",
    "lgbm.fit(x_train,y_train)\n",
    "pred_lgbm = lgbm.predict(x_test)\n",
    "mse_lgbm = mse(y_test,pred_lgbm,squared=False)\n",
    "print(\"error for LGBMRegressor = {}\".format(mse_lgbm))"
   ]
  },
  {
   "cell_type": "code",
   "execution_count": 17,
   "metadata": {},
   "outputs": [],
   "source": [
    "mse_label = [mse_lr,mse_ridge, mse_lasso, mse_knr, mse_rfr, mse_br, mse_svr, mse_lgbm]"
   ]
  },
  {
   "cell_type": "markdown",
   "metadata": {},
   "source": [
    "# One Hot Encoding"
   ]
  },
  {
   "cell_type": "code",
   "execution_count": 18,
   "metadata": {},
   "outputs": [
    {
     "name": "stdout",
     "output_type": "stream",
     "text": [
      "<class 'pandas.core.frame.DataFrame'>\n",
      "Int64Index: 27093 entries, 0 to 28819\n",
      "Data columns (total 23 columns):\n",
      " #   Column             Non-Null Count  Dtype  \n",
      "---  ------             --------------  -----  \n",
      " 0   MONTH              27093 non-null  int64  \n",
      " 1   DAY_OF_MONTH       27093 non-null  int64  \n",
      " 2   DAY_OF_WEEK        27093 non-null  int64  \n",
      " 3   OP_UNIQUE_CARRIER  27093 non-null  object \n",
      " 4   TAIL_NUM           27093 non-null  object \n",
      " 5   DEST               27093 non-null  object \n",
      " 6   DEP_DELAY          27093 non-null  int64  \n",
      " 7   CRS_ELAPSED_TIME   27093 non-null  int64  \n",
      " 8   DISTANCE           27093 non-null  int64  \n",
      " 9   CRS_DEP_M          27093 non-null  int64  \n",
      " 10  DEP_TIME_M         27093 non-null  int64  \n",
      " 11  CRS_ARR_M          27093 non-null  int64  \n",
      " 12  Temperature        27093 non-null  int64  \n",
      " 13  Dew Point          27093 non-null  float64\n",
      " 14  Humidity           27093 non-null  int64  \n",
      " 15  Wind               27093 non-null  object \n",
      " 16  Wind Speed         27093 non-null  int64  \n",
      " 17  Wind Gust          27093 non-null  int64  \n",
      " 18  Pressure           27093 non-null  float64\n",
      " 19  Condition          27093 non-null  object \n",
      " 20  sch_dep            27093 non-null  int64  \n",
      " 21  sch_arr            27093 non-null  int64  \n",
      " 22  TAXI_OUT           27093 non-null  int64  \n",
      "dtypes: float64(2), int64(16), object(5)\n",
      "memory usage: 5.0+ MB\n"
     ]
    }
   ],
   "source": [
    "dataset2.info()"
   ]
  },
  {
   "cell_type": "code",
   "execution_count": 19,
   "metadata": {},
   "outputs": [
    {
     "data": {
      "text/plain": [
       "Index(['OP_UNIQUE_CARRIER', 'TAIL_NUM', 'DEST', 'Wind', 'Condition'], dtype='object')"
      ]
     },
     "execution_count": 19,
     "metadata": {},
     "output_type": "execute_result"
    }
   ],
   "source": [
    "ObjList = dataset2.select_dtypes(include = \"object\").columns\n",
    "ObjList"
   ]
  },
  {
   "cell_type": "code",
   "execution_count": 20,
   "metadata": {
    "scrolled": true
   },
   "outputs": [
    {
     "name": "stdout",
     "output_type": "stream",
     "text": [
      "(9,)\n",
      "(2074,)\n",
      "(65,)\n",
      "(18,)\n",
      "(24,)\n"
     ]
    }
   ],
   "source": [
    "for i in range(len(ObjList)):\n",
    "    print(dataset2[ObjList[i]].unique().shape)"
   ]
  },
  {
   "cell_type": "code",
   "execution_count": 21,
   "metadata": {},
   "outputs": [],
   "source": [
    "dataset2.drop('TAIL_NUM', axis = 1, inplace = True)"
   ]
  },
  {
   "cell_type": "code",
   "execution_count": 22,
   "metadata": {},
   "outputs": [],
   "source": [
    "Op_Unique_Carrier = pd.get_dummies(dataset2['OP_UNIQUE_CARRIER'], drop_first = True)\n",
    "Dest = pd.get_dummies(dataset2['DEST'], drop_first = True)\n",
    "Wind = pd.get_dummies(dataset2['Wind'], drop_first = True)\n",
    "Condition = pd.get_dummies(dataset2['Condition'], drop_first = True)"
   ]
  },
  {
   "cell_type": "code",
   "execution_count": 23,
   "metadata": {},
   "outputs": [],
   "source": [
    "dataset2 = pd.concat([dataset2,Op_Unique_Carrier,Dest,Wind,Condition], axis = 1)\n",
    "dataset2.drop(['OP_UNIQUE_CARRIER', 'DEST', 'Wind', 'Condition'],axis = 1, inplace = True)"
   ]
  },
  {
   "cell_type": "code",
   "execution_count": 24,
   "metadata": {},
   "outputs": [],
   "source": [
    "from sklearn.model_selection import train_test_split\n",
    "\n",
    "\n",
    "x = dataset2.drop('TAXI_OUT',axis = 1).values\n",
    "y = dataset2['TAXI_OUT'].values\n",
    "\n",
    "#splitting dataset\n",
    "x_train, x_test, y_train, y_test = train_test_split(x,y, test_size = 0.1, random_state = 42)"
   ]
  },
  {
   "cell_type": "code",
   "execution_count": 25,
   "metadata": {},
   "outputs": [],
   "source": [
    "#featuring data\n",
    "from sklearn.preprocessing import StandardScaler\n",
    "ss = StandardScaler()\n",
    "x_train_feat = ss.fit_transform(x_train)\n",
    "x_test_feat = ss.transform(x_test)"
   ]
  },
  {
   "cell_type": "markdown",
   "metadata": {},
   "source": [
    "## Linear Regression with One Hot Encoding"
   ]
  },
  {
   "cell_type": "code",
   "execution_count": 26,
   "metadata": {},
   "outputs": [
    {
     "name": "stdout",
     "output_type": "stream",
     "text": [
      "error for Linear Regression = 6.4869939174939635\n"
     ]
    }
   ],
   "source": [
    "from sklearn.metrics import mean_squared_error as mse\n",
    "\n",
    "from sklearn.linear_model import LinearRegression\n",
    "lr = LinearRegression()\n",
    "lr.fit(x_train_feat,y_train)\n",
    "pred_lr = lr.predict(x_test_feat)\n",
    "mse_lr = mse(y_test, pred_lr, squared = False)\n",
    "print(\"error for Linear Regression = {}\".format(mse_lr))"
   ]
  },
  {
   "cell_type": "markdown",
   "metadata": {},
   "source": [
    "## Ridge Regression with One Hot Encoding"
   ]
  },
  {
   "cell_type": "code",
   "execution_count": 27,
   "metadata": {},
   "outputs": [
    {
     "name": "stdout",
     "output_type": "stream",
     "text": [
      "error for Ridge Regression = 6.487088499836873\n"
     ]
    }
   ],
   "source": [
    "from sklearn.linear_model import Ridge\n",
    "\n",
    "ridge = Ridge(alpha = 1.0)\n",
    "ridge.fit(x_train_feat, y_train)\n",
    "pred_ridge = ridge.predict(x_test_feat)\n",
    "mse_ridge = mse(y_test, pred_ridge, squared = False)\n",
    "print(\"error for Ridge Regression = {}\".format(mse_ridge))"
   ]
  },
  {
   "cell_type": "markdown",
   "metadata": {},
   "source": [
    "## Lasso Regression with One Hot Encoding"
   ]
  },
  {
   "cell_type": "code",
   "execution_count": 28,
   "metadata": {},
   "outputs": [
    {
     "name": "stdout",
     "output_type": "stream",
     "text": [
      "error for Lasso Regression = 6.7517928436745525\n"
     ]
    }
   ],
   "source": [
    "from sklearn.linear_model import Lasso\n",
    "\n",
    "lasso = Lasso(alpha = 0.5)\n",
    "lasso.fit(x_train_feat, y_train)\n",
    "pred_lasso = lasso.predict(x_test_feat)\n",
    "mse_lasso = mse(y_test, pred_lasso, squared = False)\n",
    "print(\"error for Lasso Regression = {}\".format(mse_lasso))"
   ]
  },
  {
   "cell_type": "markdown",
   "metadata": {},
   "source": [
    "## KNN with One Hot Encoding"
   ]
  },
  {
   "cell_type": "code",
   "execution_count": 29,
   "metadata": {},
   "outputs": [
    {
     "name": "stdout",
     "output_type": "stream",
     "text": [
      "error when k = 116 for KNN  is 6.661722125588095\n"
     ]
    }
   ],
   "source": [
    "from sklearn.neighbors import KNeighborsRegressor\n",
    "i = int(math.sqrt(len(dataset2)/2))\n",
    "knr = KNeighborsRegressor(i)\n",
    "knr.fit(x_train_feat, y_train)\n",
    "pred_knr = knr.predict(x_test_feat)\n",
    "mse_knr = mse(y_test, pred_knr, squared = False)\n",
    "print(\"error when k = {} for KNN  is {}\".format(i, mse_knr))"
   ]
  },
  {
   "cell_type": "markdown",
   "metadata": {},
   "source": [
    "## Random Forest with One Hot Encoding"
   ]
  },
  {
   "cell_type": "code",
   "execution_count": 30,
   "metadata": {},
   "outputs": [
    {
     "name": "stdout",
     "output_type": "stream",
     "text": [
      "error for Random Forest Regressor = 5.7034328789919195\n"
     ]
    }
   ],
   "source": [
    "from sklearn.ensemble import RandomForestRegressor\n",
    "rfr = RandomForestRegressor()\n",
    "rfr.fit(x_train, y_train)\n",
    "pred_rfr = rfr.predict(x_test)\n",
    "mse_rfr = mse(y_test, pred_rfr,squared = False)\n",
    "print(\"error for Random Forest Regressor = {}\".format(mse_rfr))"
   ]
  },
  {
   "cell_type": "markdown",
   "metadata": {},
   "source": [
    "## Naive Bayes with One Hot Encoding"
   ]
  },
  {
   "cell_type": "code",
   "execution_count": 31,
   "metadata": {},
   "outputs": [
    {
     "name": "stdout",
     "output_type": "stream",
     "text": [
      "error for Bayesian Ridge = 6.484530227356418\n"
     ]
    }
   ],
   "source": [
    "from sklearn.linear_model import BayesianRidge\n",
    "br = BayesianRidge()\n",
    "br.fit(x_train, y_train)\n",
    "pred_br = br.predict(x_test)\n",
    "mse_br = mse(y_test, pred_br, squared = False)\n",
    "print(\"error for Bayesian Ridge = {}\".format(mse_br))"
   ]
  },
  {
   "cell_type": "markdown",
   "metadata": {},
   "source": [
    "## SVR with One Hot Encoding"
   ]
  },
  {
   "cell_type": "code",
   "execution_count": 32,
   "metadata": {},
   "outputs": [
    {
     "name": "stdout",
     "output_type": "stream",
     "text": [
      "error for Support Vector Regressor = 6.515680549131141\n"
     ]
    }
   ],
   "source": [
    "from sklearn.svm import SVR\n",
    "svr = SVR()\n",
    "svr.fit(x_train_feat, y_train)\n",
    "pred_svr = svr.predict(x_test_feat)\n",
    "mse_svr = mse(y_test,pred_svr, squared = False)\n",
    "print(\"error for Support Vector Regressor = {}\".format(mse_svr))"
   ]
  },
  {
   "cell_type": "markdown",
   "metadata": {},
   "source": [
    "## LGBM with One Hot Encoding"
   ]
  },
  {
   "cell_type": "code",
   "execution_count": 33,
   "metadata": {},
   "outputs": [
    {
     "name": "stdout",
     "output_type": "stream",
     "text": [
      "error for LGBMRegressor = 5.825694185820931\n"
     ]
    }
   ],
   "source": [
    "from lightgbm import LGBMRegressor\n",
    "\n",
    "\n",
    "lgbm = LGBMRegressor()\n",
    "lgbm.fit(x_train,y_train)\n",
    "pred_lgbm = lgbm.predict(x_test)\n",
    "mse_lgbm = mse(y_test,pred_lgbm,squared=False)\n",
    "print(\"error for LGBMRegressor = {}\".format(mse_lgbm))"
   ]
  },
  {
   "cell_type": "code",
   "execution_count": 34,
   "metadata": {},
   "outputs": [],
   "source": [
    "mse_one_hot = [mse_lr,mse_ridge, mse_lasso, mse_knr, mse_rfr, mse_br, mse_svr, mse_lgbm]\n",
    "models = [\"Linear\", \"Ridge\", \"Lasso\", \"KNN\", \"Random_forest\", \"Bayesian_Ridge\", \"SVR\", \"LGBM\"]"
   ]
  },
  {
   "cell_type": "markdown",
   "metadata": {},
   "source": [
    "## Comparison using Graph"
   ]
  },
  {
   "cell_type": "code",
   "execution_count": 36,
   "metadata": {},
   "outputs": [
    {
     "data": {
      "image/png": "[encoded data removed]",
      "text/plain": [
       "<Figure size 1080x360 with 1 Axes>"
      ]
     },
     "metadata": {
      "needs_background": "light"
     },
     "output_type": "display_data"
    }
   ],
   "source": [
    "import matplotlib.pyplot as plt\n",
    "\n",
    "plt.figure(figsize = (15,5))\n",
    "plt.plot(models,mse_label,label = \"Label encoded\",linestyle='dashed', linewidth = 3,\n",
    "         marker='o', markerfacecolor='blue', markersize=12)\n",
    "plt.plot(models, mse_one_hot,label = \"One Hot Encoded\",linestyle='dashed', linewidth = 3,\n",
    "         marker='o', markerfacecolor='red', markersize=12)\n",
    "plt.title(\"Comparison between One Hot Encoded and Label Ecoded data\")\n",
    "plt.xlabel(\"Models\")\n",
    "plt.ylabel(\"Mean Squared Error\")\n",
    "plt.legend()\n",
    "plt.show()"
   ]
  },
  {
   "cell_type": "code",
   "execution_count": null,
   "metadata": {},
   "outputs": [],
   "source": []
  }
 ],
 "metadata": {
  "kernelspec": {
   "display_name": "Python 3",
   "language": "python",
   "name": "python3"
  },
  "language_info": {
   "codemirror_mode": {
    "name": "ipython",
    "version": 3
   },
   "file_extension": ".py",
   "mimetype": "text/x-python",
   "name": "python",
   "nbconvert_exporter": "python",
   "pygments_lexer": "ipython3",
   "version": "3.7.6"
  }
 },
 "nbformat": 4,
 "nbformat_minor": 4
}
